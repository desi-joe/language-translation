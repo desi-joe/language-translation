{
 "cells": [
  {
   "cell_type": "markdown",
   "metadata": {
    "collapsed": true
   },
   "source": [
    "# Language Translation\n",
    "In this project, you’re going to take a peek into the realm of neural network machine translation.  You’ll be training a sequence to sequence model on a dataset of English and French sentences that can translate new sentences from English to French.\n",
    "## Get the Data\n",
    "Since translating the whole language of English to French will take lots of time to train, we have provided you with a small portion of the English corpus."
   ]
  },
  {
   "cell_type": "code",
   "execution_count": 87,
   "metadata": {
    "collapsed": true
   },
   "outputs": [],
   "source": [
    "\"\"\"\n",
    "DON'T MODIFY ANYTHING IN THIS CELL\n",
    "\"\"\"\n",
    "import helper\n",
    "import problem_unittests as tests\n",
    "\n",
    "source_path = 'data/small_vocab_en'\n",
    "target_path = 'data/small_vocab_fr'\n",
    "source_text = helper.load_data(source_path)\n",
    "target_text = helper.load_data(target_path)"
   ]
  },
  {
   "cell_type": "markdown",
   "metadata": {},
   "source": [
    "## Explore the Data\n",
    "Play around with view_sentence_range to view different parts of the data."
   ]
  },
  {
   "cell_type": "code",
   "execution_count": 88,
   "metadata": {},
   "outputs": [
    {
     "name": "stdout",
     "output_type": "stream",
     "text": [
      "Dataset Stats\n",
      "Roughly the number of unique words: 227\n",
      "Number of sentences: 137861\n",
      "Average number of words in a sentence: 13.225277634719028\n",
      "\n",
      "English sentences 0 to 10:\n",
      "new jersey is sometimes quiet during autumn , and it is snowy in april .\n",
      "the united states is usually chilly during july , and it is usually freezing in november .\n",
      "california is usually quiet during march , and it is usually hot in june .\n",
      "the united states is sometimes mild during june , and it is cold in september .\n",
      "your least liked fruit is the grape , but my least liked is the apple .\n",
      "his favorite fruit is the orange , but my favorite is the grape .\n",
      "paris is relaxing during december , but it is usually chilly in july .\n",
      "new jersey is busy during spring , and it is never hot in march .\n",
      "our least liked fruit is the lemon , but my least liked is the grape .\n",
      "the united states is sometimes busy during january , and it is sometimes warm in november .\n",
      "\n",
      "French sentences 0 to 10:\n",
      "new jersey est parfois calme pendant l' automne , et il est neigeux en avril .\n",
      "les états-unis est généralement froid en juillet , et il gèle habituellement en novembre .\n",
      "california est généralement calme en mars , et il est généralement chaud en juin .\n",
      "les états-unis est parfois légère en juin , et il fait froid en septembre .\n",
      "votre moins aimé fruit est le raisin , mais mon moins aimé est la pomme .\n",
      "son fruit préféré est l'orange , mais mon préféré est le raisin .\n",
      "paris est relaxant en décembre , mais il est généralement froid en juillet .\n",
      "new jersey est occupé au printemps , et il est jamais chaude en mars .\n",
      "notre fruit est moins aimé le citron , mais mon moins aimé est le raisin .\n",
      "les états-unis est parfois occupé en janvier , et il est parfois chaud en novembre .\n"
     ]
    }
   ],
   "source": [
    "view_sentence_range = (0, 10)\n",
    "\n",
    "\"\"\"\n",
    "DON'T MODIFY ANYTHING IN THIS CELL\n",
    "\"\"\"\n",
    "import numpy as np\n",
    "\n",
    "print('Dataset Stats')\n",
    "print('Roughly the number of unique words: {}'.format(len({word: None for word in source_text.split()})))\n",
    "\n",
    "sentences = source_text.split('\\n')\n",
    "word_counts = [len(sentence.split()) for sentence in sentences]\n",
    "print('Number of sentences: {}'.format(len(sentences)))\n",
    "print('Average number of words in a sentence: {}'.format(np.average(word_counts)))\n",
    "\n",
    "print()\n",
    "print('English sentences {} to {}:'.format(*view_sentence_range))\n",
    "print('\\n'.join(source_text.split('\\n')[view_sentence_range[0]:view_sentence_range[1]]))\n",
    "print()\n",
    "print('French sentences {} to {}:'.format(*view_sentence_range))\n",
    "print('\\n'.join(target_text.split('\\n')[view_sentence_range[0]:view_sentence_range[1]]))"
   ]
  },
  {
   "cell_type": "markdown",
   "metadata": {},
   "source": [
    "## Implement Preprocessing Function\n",
    "### Text to Word Ids\n",
    "As you did with other RNNs, you must turn the text into a number so the computer can understand it. In the function `text_to_ids()`, you'll turn `source_text` and `target_text` from words to ids.  However, you need to add the `<EOS>` word id at the end of `target_text`.  This will help the neural network predict when the sentence should end.\n",
    "\n",
    "You can get the `<EOS>` word id by doing:\n",
    "```python\n",
    "target_vocab_to_int['<EOS>']\n",
    "```\n",
    "You can get other word ids using `source_vocab_to_int` and `target_vocab_to_int`."
   ]
  },
  {
   "cell_type": "code",
   "execution_count": 89,
   "metadata": {},
   "outputs": [
    {
     "name": "stdout",
     "output_type": "stream",
     "text": [
      "Tests Passed\n"
     ]
    }
   ],
   "source": [
    "def text_to_ids(source_text, target_text, source_vocab_to_int, target_vocab_to_int):\n",
    "    \"\"\"\n",
    "    Convert source and target text to proper word ids\n",
    "    :param source_text: String that contains all the source text.\n",
    "    :param target_text: String that contains all the target text.\n",
    "    :param source_vocab_to_int: Dictionary to go from the source words to an id\n",
    "    :param target_vocab_to_int: Dictionary to go from the target words to an id\n",
    "    :return: A tuple of lists (source_id_text, target_id_text)\n",
    "    \"\"\"\n",
    "    # TODO: Implement Function\n",
    "    \n",
    "    source_words = [[source_words for source_words in source_lines.split(' ')] for source_lines in source_text.split('\\n')]\n",
    "    target_words = [[target_words for target_words in target_lines.split(' ')] for target_lines in target_text.split('\\n')]\n",
    "\n",
    "    source_id_text = [[source_vocab_to_int.get(source_word, source_vocab_to_int['<UNK>'])  for source_word in row ] for row in source_words]\n",
    "    target_id_text = [[target_vocab_to_int.get(target_word, target_vocab_to_int['<UNK>'])  for target_word in row ] + [target_vocab_to_int['<EOS>']] for row in target_words]\n",
    "    \n",
    "    return source_id_text, target_id_text\n",
    "\n",
    "\"\"\"\n",
    "DON'T MODIFY ANYTHING IN THIS CELL THAT IS BELOW THIS LINE\n",
    "\"\"\"\n",
    "tests.test_text_to_ids(text_to_ids)"
   ]
  },
  {
   "cell_type": "markdown",
   "metadata": {},
   "source": [
    "### Preprocess all the data and save it\n",
    "Running the code cell below will preprocess all the data and save it to file."
   ]
  },
  {
   "cell_type": "code",
   "execution_count": 90,
   "metadata": {
    "collapsed": true
   },
   "outputs": [],
   "source": [
    "\"\"\"\n",
    "DON'T MODIFY ANYTHING IN THIS CELL\n",
    "\"\"\"\n",
    "helper.preprocess_and_save_data(source_path, target_path, text_to_ids)"
   ]
  },
  {
   "cell_type": "markdown",
   "metadata": {},
   "source": [
    "# Check Point\n",
    "This is your first checkpoint. If you ever decide to come back to this notebook or have to restart the notebook, you can start from here. The preprocessed data has been saved to disk."
   ]
  },
  {
   "cell_type": "code",
   "execution_count": 91,
   "metadata": {
    "collapsed": true
   },
   "outputs": [],
   "source": [
    "\"\"\"\n",
    "DON'T MODIFY ANYTHING IN THIS CELL\n",
    "\"\"\"\n",
    "import numpy as np\n",
    "import helper\n",
    "\n",
    "(source_int_text, target_int_text), (source_vocab_to_int, target_vocab_to_int), _ = helper.load_preprocess()"
   ]
  },
  {
   "cell_type": "markdown",
   "metadata": {},
   "source": [
    "### Check the Version of TensorFlow and Access to GPU\n",
    "This will check to make sure you have the correct version of TensorFlow and access to a GPU"
   ]
  },
  {
   "cell_type": "code",
   "execution_count": 92,
   "metadata": {},
   "outputs": [
    {
     "name": "stdout",
     "output_type": "stream",
     "text": [
      "3.4.3 (default, Sep  1 2016, 23:33:38) \n",
      "[GCC 4.8.3 20140911 (Red Hat 4.8.3-9)]\n"
     ]
    }
   ],
   "source": [
    "import sys\n",
    "print(sys.version)"
   ]
  },
  {
   "cell_type": "code",
   "execution_count": 93,
   "metadata": {},
   "outputs": [
    {
     "name": "stdout",
     "output_type": "stream",
     "text": [
      "TensorFlow Version: 1.1.0\n",
      "TensorFlow Version: 1.1.0\n",
      "TensorFlow Version: 1.1.0\n",
      "Default GPU Device: /gpu:0\n"
     ]
    }
   ],
   "source": [
    "\"\"\"\n",
    "DON'T MODIFY ANYTHING IN THIS CELL\n",
    "\"\"\"\n",
    "from distutils.version import LooseVersion\n",
    "import warnings\n",
    "import tensorflow as tf\n",
    "from tensorflow.python.layers.core import Dense\n",
    "\n",
    "print('TensorFlow Version: {}'.format(tf.__version__))\n",
    "\n",
    "# Check TensorFlow Version\n",
    "print('TensorFlow Version: {}'.format(tf.__version__))\n",
    "assert LooseVersion(tf.__version__) >= LooseVersion('1.1'), 'Please use TensorFlow version 1.1 or newer'\n",
    "print('TensorFlow Version: {}'.format(tf.__version__))\n",
    "\n",
    "# Check for a GPU\n",
    "if not tf.test.gpu_device_name():\n",
    "    warnings.warn('No GPU found. Please use a GPU to train your neural network.')\n",
    "else:\n",
    "    print('Default GPU Device: {}'.format(tf.test.gpu_device_name()))"
   ]
  },
  {
   "cell_type": "markdown",
   "metadata": {},
   "source": [
    "## Build the Neural Network\n",
    "You'll build the components necessary to build a Sequence-to-Sequence model by implementing the following functions below:\n",
    "- `model_inputs`\n",
    "- `process_decoder_input`\n",
    "- `encoding_layer`\n",
    "- `decoding_layer_train`\n",
    "- `decoding_layer_infer`\n",
    "- `decoding_layer`\n",
    "- `seq2seq_model`\n",
    "\n",
    "### Input\n",
    "Implement the `model_inputs()` function to create TF Placeholders for the Neural Network. It should create the following placeholders:\n",
    "\n",
    "- Input text placeholder named \"input\" using the TF Placeholder name parameter with rank 2.\n",
    "- Targets placeholder with rank 2.\n",
    "- Learning rate placeholder with rank 0.\n",
    "- Keep probability placeholder named \"keep_prob\" using the TF Placeholder name parameter with rank 0.\n",
    "- Target sequence length placeholder named \"target_sequence_length\" with rank 1\n",
    "- Max target sequence length tensor named \"max_target_len\" getting its value from applying tf.reduce_max on the target_sequence_length placeholder. Rank 0.\n",
    "- Source sequence length placeholder named \"source_sequence_length\" with rank 1\n",
    "\n",
    "Return the placeholders in the following the tuple (input, targets, learning rate, keep probability, target sequence length, max target sequence length, source sequence length)"
   ]
  },
  {
   "cell_type": "code",
   "execution_count": 94,
   "metadata": {},
   "outputs": [
    {
     "name": "stdout",
     "output_type": "stream",
     "text": [
      "Tests Passed\n"
     ]
    }
   ],
   "source": [
    "def model_inputs():\n",
    "    \"\"\"\n",
    "    Create TF Placeholders for input, targets, learning rate, and lengths of source and target sequences.\n",
    "    :return: Tuple (input, targets, learning rate, keep probability, target sequence length,\n",
    "    max target sequence length, source sequence length)\n",
    "    \"\"\"\n",
    "    # TODO: Implement Function\n",
    "    input_ = tf.placeholder(tf.int32, [None, None], name='input')\n",
    "    targets = tf.placeholder(tf.int32, [None, None], name='targets')\n",
    "    learning_rate = tf.placeholder(tf.float32, name='learning_rate')\n",
    "    keep_probability = tf.placeholder(tf.float32, name='keep_prob')\n",
    "    target_sequence_length = tf.placeholder(tf.int32,(None,), name='target_sequence_length')\n",
    "    max_target_sequence_len = tf.reduce_max(target_sequence_length, name='max_target_len')\n",
    "    source_sequence_length = tf.placeholder(tf.int32,(None,), name='source_sequence_length')\n",
    "    \n",
    "    return input_, targets, learning_rate, keep_probability, target_sequence_length, max_target_sequence_len, source_sequence_length\n",
    "\n",
    "\n",
    "\"\"\"\n",
    "DON'T MODIFY ANYTHING IN THIS CELL THAT IS BELOW THIS LINE\n",
    "\"\"\"\n",
    "tests.test_model_inputs(model_inputs)"
   ]
  },
  {
   "cell_type": "markdown",
   "metadata": {},
   "source": [
    "### Process Decoder Input\n",
    "Implement `process_decoder_input` by removing the last word id from each batch in `target_data` and concat the GO ID to the begining of each batch."
   ]
  },
  {
   "cell_type": "code",
   "execution_count": 95,
   "metadata": {},
   "outputs": [
    {
     "name": "stdout",
     "output_type": "stream",
     "text": [
      "Tests Passed\n"
     ]
    }
   ],
   "source": [
    "def process_decoder_input(target_data, target_vocab_to_int, batch_size):\n",
    "    \"\"\"\n",
    "    Preprocess target data for encoding\n",
    "    :param target_data: Target Placehoder\n",
    "    :param target_vocab_to_int: Dictionary to go from the target words to an id\n",
    "    :param batch_size: Batch Size\n",
    "    :return: Preprocessed target data\n",
    "    \"\"\"\n",
    "    # TODO: Implement Function\n",
    "    ending = tf.strided_slice(target_data, [0, 0], [batch_size, -1], [1,1])\n",
    "    dec_input = tf.concat([tf.fill([batch_size, 1], target_vocab_to_int['<GO>']), ending], 1)\n",
    "    return dec_input\n",
    "\n",
    "\"\"\"\n",
    "DON'T MODIFY ANYTHING IN THIS CELL THAT IS BELOW THIS LINE\n",
    "\"\"\"\n",
    "tests.test_process_encoding_input(process_decoder_input)"
   ]
  },
  {
   "cell_type": "markdown",
   "metadata": {},
   "source": [
    "### Encoding\n",
    "Implement `encoding_layer()` to create a Encoder RNN layer:\n",
    " * Embed the encoder input using [`tf.contrib.layers.embed_sequence`](https://www.tensorflow.org/api_docs/python/tf/contrib/layers/embed_sequence)\n",
    " * Construct a [stacked](https://github.com/tensorflow/tensorflow/blob/6947f65a374ebf29e74bb71e36fd82760056d82c/tensorflow/docs_src/tutorials/recurrent.md#stacking-multiple-lstms) [`tf.contrib.rnn.LSTMCell`](https://www.tensorflow.org/api_docs/python/tf/contrib/rnn/LSTMCell) wrapped in a [`tf.contrib.rnn.DropoutWrapper`](https://www.tensorflow.org/api_docs/python/tf/contrib/rnn/DropoutWrapper)\n",
    " * Pass cell and embedded input to [`tf.nn.dynamic_rnn()`](https://www.tensorflow.org/api_docs/python/tf/nn/dynamic_rnn)"
   ]
  },
  {
   "cell_type": "code",
   "execution_count": 96,
   "metadata": {
    "scrolled": false
   },
   "outputs": [
    {
     "name": "stdout",
     "output_type": "stream",
     "text": [
      "rnn_inputs:  Tensor(\"Placeholder:0\", shape=(64, 22), dtype=int32)\n",
      "source_vocab_size:  20\n",
      "encoding_embedding_size:  30\n",
      "Tests Passed\n"
     ]
    }
   ],
   "source": [
    "from imp import reload\n",
    "reload(tests)\n",
    "\n",
    "def encoding_layer(rnn_inputs, rnn_size, num_layers, keep_prob, \n",
    "                   source_sequence_length, source_vocab_size, \n",
    "                   encoding_embedding_size):\n",
    "    \"\"\"\n",
    "    Create encoding layer\n",
    "    :param rnn_inputs: Inputs for the RNN\n",
    "    :param rnn_size: RNN Size\n",
    "    :param num_layers: Number of layers\n",
    "    :param keep_prob: Dropout keep probability\n",
    "    :param source_sequence_length: a list of the lengths of each sequence in the batch\n",
    "    :param source_vocab_size: vocabulary size of source data\n",
    "    :param encoding_embedding_size: embedding size of source data\n",
    "    :return: tuple (RNN output, RNN state)\n",
    "    \"\"\"\n",
    "    # TODO: Implement Function\n",
    "    # Encoder embedding\n",
    "    \n",
    "    \n",
    "    print('rnn_inputs: ',rnn_inputs)\n",
    "    print('source_vocab_size: ',source_vocab_size)\n",
    "    print('encoding_embedding_size: ', encoding_embedding_size)\n",
    "    enc_embed_input = tf.contrib.layers.embed_sequence(rnn_inputs, source_vocab_size, encoding_embedding_size)\n",
    "\n",
    "    # RNN cell\n",
    "    def make_cell(rnn_size):\n",
    "        enc_cell = tf.contrib.rnn.LSTMCell(rnn_size,\n",
    "                                           initializer=tf.random_uniform_initializer(-0.1, 0.1, seed=2))\n",
    "        return enc_cell\n",
    "\n",
    "    enc_cell = tf.contrib.rnn.MultiRNNCell([make_cell(rnn_size) for _ in range(num_layers)])\n",
    "    \n",
    "    enc_output, enc_state = tf.nn.dynamic_rnn(enc_cell, enc_embed_input, sequence_length=source_sequence_length, dtype=tf.float32)\n",
    "    \n",
    "    return enc_output, enc_state\n",
    "\n",
    "\"\"\"\n",
    "DON'T MODIFY ANYTHING IN THIS CELL THAT IS BELOW THIS LINE\n",
    "\"\"\"\n",
    "tests.test_encoding_layer(encoding_layer)"
   ]
  },
  {
   "cell_type": "markdown",
   "metadata": {},
   "source": [
    "### Decoding - Training\n",
    "Create a training decoding layer:\n",
    "* Create a [`tf.contrib.seq2seq.TrainingHelper`](https://www.tensorflow.org/api_docs/python/tf/contrib/seq2seq/TrainingHelper) \n",
    "* Create a [`tf.contrib.seq2seq.BasicDecoder`](https://www.tensorflow.org/api_docs/python/tf/contrib/seq2seq/BasicDecoder)\n",
    "* Obtain the decoder outputs from [`tf.contrib.seq2seq.dynamic_decode`](https://www.tensorflow.org/api_docs/python/tf/contrib/seq2seq/dynamic_decode)"
   ]
  },
  {
   "cell_type": "code",
   "execution_count": 97,
   "metadata": {},
   "outputs": [
    {
     "name": "stdout",
     "output_type": "stream",
     "text": [
      "Tests Passed\n"
     ]
    }
   ],
   "source": [
    "\n",
    "def decoding_layer_train(encoder_state, dec_cell, dec_embed_input, \n",
    "                         target_sequence_length, max_summary_length, \n",
    "                         output_layer, keep_prob):\n",
    "    \"\"\"\n",
    "    Create a decoding layer for training\n",
    "    :param encoder_state: Encoder State\n",
    "    :param dec_cell: Decoder RNN Cell\n",
    "    :param dec_embed_input: Decoder embedded input\n",
    "    :param target_sequence_length: The lengths of each sequence in the target batch\n",
    "    :param max_summary_length: The length of the longest sequence in the batch\n",
    "    :param output_layer: Function to apply the output layer\n",
    "    :param keep_prob: Dropout keep probability\n",
    "    :return: BasicDecoderOutput containing training logits and sample_id\n",
    "    \"\"\"\n",
    "    # TODO: Implement Function\n",
    "    \n",
    "    # Helper for the training process. Used by BasicDecoder to read inputs.\n",
    "    training_helper = tf.contrib.seq2seq.TrainingHelper(inputs=dec_embed_input,\n",
    "                                                            sequence_length=target_sequence_length,\n",
    "                                                            time_major=False)\n",
    "    \n",
    "    # Basic decoder\n",
    "    training_decoder = tf.contrib.seq2seq.BasicDecoder(dec_cell,\n",
    "                                                           training_helper,\n",
    "                                                           encoder_state,\n",
    "                                                           output_layer) \n",
    "        \n",
    "    # Perform dynamic decoding using the decoder\n",
    "    BasicDecoderOutput, _ = tf.contrib.seq2seq.dynamic_decode(training_decoder,\n",
    "                                                                       impute_finished=True,\n",
    "                                                                       maximum_iterations=max_summary_length)\n",
    "\n",
    "    return BasicDecoderOutput\n",
    "\n",
    "\n",
    "\n",
    "\"\"\"\n",
    "DON'T MODIFY ANYTHING IN THIS CELL THAT IS BELOW THIS LINE\n",
    "\"\"\"\n",
    "tests.test_decoding_layer_train(decoding_layer_train)"
   ]
  },
  {
   "cell_type": "markdown",
   "metadata": {},
   "source": [
    "### Decoding - Inference\n",
    "Create inference decoder:\n",
    "* Create a [`tf.contrib.seq2seq.GreedyEmbeddingHelper`](https://www.tensorflow.org/api_docs/python/tf/contrib/seq2seq/GreedyEmbeddingHelper)\n",
    "* Create a [`tf.contrib.seq2seq.BasicDecoder`](https://www.tensorflow.org/api_docs/python/tf/contrib/seq2seq/BasicDecoder)\n",
    "* Obtain the decoder outputs from [`tf.contrib.seq2seq.dynamic_decode`](https://www.tensorflow.org/api_docs/python/tf/contrib/seq2seq/dynamic_decode)"
   ]
  },
  {
   "cell_type": "code",
   "execution_count": 98,
   "metadata": {
    "scrolled": true
   },
   "outputs": [
    {
     "name": "stdout",
     "output_type": "stream",
     "text": [
      "Tests Passed\n"
     ]
    }
   ],
   "source": [
    "def decoding_layer_infer(encoder_state, dec_cell, dec_embeddings, start_of_sequence_id,\n",
    "                         end_of_sequence_id, max_target_sequence_length,\n",
    "                         vocab_size, output_layer, batch_size, keep_prob):\n",
    "    \"\"\"\n",
    "    Create a decoding layer for inference\n",
    "    :param encoder_state: Encoder state\n",
    "    :param dec_cell: Decoder RNN Cell\n",
    "    :param dec_embeddings: Decoder embeddings\n",
    "    :param start_of_sequence_id: GO ID\n",
    "    :param end_of_sequence_id: EOS Id\n",
    "    :param max_target_sequence_length: Maximum length of target sequences\n",
    "    :param vocab_size: Size of decoder/target vocabulary\n",
    "    :param decoding_scope: TenorFlow Variable Scope for decoding\n",
    "    :param output_layer: Function to apply the output layer\n",
    "    :param batch_size: Batch size\n",
    "    :param keep_prob: Dropout keep probability\n",
    "    :return: BasicDecoderOutput containing inference logits and sample_id\n",
    "    \"\"\"\n",
    "    # TODO: Implement Function\n",
    "    \n",
    "    #with tf.variable_scope(\"decode\", reuse=True):\n",
    "    start_tokens = tf.tile(tf.constant([start_of_sequence_id], dtype=tf.int32), [batch_size], name='start_tokens')\n",
    "\n",
    "    # Helper for the inference process.\n",
    "    inference_helper = tf.contrib.seq2seq.GreedyEmbeddingHelper(dec_embeddings,\n",
    "                                                                start_tokens,\n",
    "                                                                end_of_sequence_id)\n",
    "\n",
    "    # Basic decoder\n",
    "    inference_decoder = tf.contrib.seq2seq.BasicDecoder(dec_cell,\n",
    "                                                        inference_helper,\n",
    "                                                        encoder_state,\n",
    "                                                        output_layer)\n",
    "        \n",
    "    # Perform dynamic decoding using the decoder\n",
    "    BasicDecoderOutput, _ = tf.contrib.seq2seq.dynamic_decode(inference_decoder,\n",
    "                                                            impute_finished=True,\n",
    "                                                            maximum_iterations=max_target_sequence_length)\n",
    "    return BasicDecoderOutput\n",
    "\n",
    "\n",
    "\n",
    "\"\"\"\n",
    "DON'T MODIFY ANYTHING IN THIS CELL THAT IS BELOW THIS LINE\n",
    "\"\"\"\n",
    "tests.test_decoding_layer_infer(decoding_layer_infer)"
   ]
  },
  {
   "cell_type": "markdown",
   "metadata": {},
   "source": [
    "### Build the Decoding Layer\n",
    "Implement `decoding_layer()` to create a Decoder RNN layer.\n",
    "\n",
    "* Embed the target sequences\n",
    "* Construct the decoder LSTM cell (just like you constructed the encoder cell above)\n",
    "* Create an output layer to map the outputs of the decoder to the elements of our vocabulary\n",
    "* Use the your `decoding_layer_train(encoder_state, dec_cell, dec_embed_input, target_sequence_length, max_target_sequence_length, output_layer, keep_prob)` function to get the training logits.\n",
    "* Use your `decoding_layer_infer(encoder_state, dec_cell, dec_embeddings, start_of_sequence_id, end_of_sequence_id, max_target_sequence_length, vocab_size, output_layer, batch_size, keep_prob)` function to get the inference logits.\n",
    "\n",
    "Note: You'll need to use [tf.variable_scope](https://www.tensorflow.org/api_docs/python/tf/variable_scope) to share variables between training and inference."
   ]
  },
  {
   "cell_type": "code",
   "execution_count": 99,
   "metadata": {},
   "outputs": [
    {
     "name": "stdout",
     "output_type": "stream",
     "text": [
      "Tests Passed\n"
     ]
    }
   ],
   "source": [
    "def decoding_layer(dec_input, encoder_state,\n",
    "                   target_sequence_length, max_target_sequence_length,\n",
    "                   rnn_size,\n",
    "                   num_layers, target_vocab_to_int, target_vocab_size,\n",
    "                   batch_size, keep_prob, decoding_embedding_size):\n",
    "    \"\"\"\n",
    "    Create decoding layer\n",
    "    :param dec_input: Decoder input\n",
    "    :param encoder_state: Encoder state\n",
    "    :param target_sequence_length: The lengths of each sequence in the target batch\n",
    "    :param max_target_sequence_length: Maximum length of target sequences\n",
    "    :param rnn_size: RNN Size\n",
    "    :param num_layers: Number of layers\n",
    "    :param target_vocab_to_int: Dictionary to go from the target words to an id\n",
    "    :param target_vocab_size: Size of target vocabulary\n",
    "    :param batch_size: The size of the batch\n",
    "    :param keep_prob: Dropout keep probability\n",
    "    :param decoding_embedding_size: Decoding embedding size\n",
    "    :return: Tuple of (Training BasicDecoderOutput, Inference BasicDecoderOutput)\n",
    "    \"\"\"\n",
    "    # TODO: Implement Function\n",
    "    dec_embeddings = tf.Variable(tf.random_uniform([target_vocab_size, decoding_embedding_size]))\n",
    "    dec_input = tf.nn.embedding_lookup(dec_embeddings, dec_input)\n",
    "    \n",
    "    def make_cell(rnn_size):\n",
    "        dec_cell = tf.contrib.rnn.LSTMCell(rnn_size, initializer=tf.random_uniform_initializer(-0.1, 0.1, seed=2))\n",
    "        return dec_cell\n",
    "    \n",
    "    dec_cell = tf.contrib.rnn.MultiRNNCell([make_cell(rnn_size) for _ in range(num_layers)])\n",
    "    output_layer = Dense(target_vocab_size,\n",
    "                         kernel_initializer = tf.truncated_normal_initializer(mean = 0.0, stddev=0.1))\n",
    "\n",
    "    with tf.variable_scope(\"decode\"):\n",
    "\n",
    "        # Helper for the training process. Used by BasicDecoder to read inputs.\n",
    "        training_helper = tf.contrib.seq2seq.TrainingHelper(inputs=dec_input,\n",
    "                                                            sequence_length=target_sequence_length,\n",
    "                                                            time_major=False)\n",
    "        \n",
    "        \n",
    "        # Basic decoder\n",
    "        training_decoder = tf.contrib.seq2seq.BasicDecoder(dec_cell,\n",
    "                                                           training_helper,\n",
    "                                                           encoder_state,\n",
    "                                                           output_layer) \n",
    "        \n",
    "        # Perform dynamic decoding using the decoder\n",
    "        training_decoder_output, _ = tf.contrib.seq2seq.dynamic_decode(training_decoder,\n",
    "                                                                       impute_finished=True,\n",
    "                                                                       maximum_iterations=max_target_sequence_length)\n",
    "    # 5. Inference Decoder\n",
    "    # Reuses the same parameters trained by the training process\n",
    "    with tf.variable_scope(\"decode\", reuse=True):\n",
    "        start_tokens = tf.tile(tf.constant([target_vocab_to_int['<GO>']], dtype=tf.int32), [batch_size], name='start_tokens')\n",
    "\n",
    "        # Helper for the inference process.\n",
    "        inference_helper = tf.contrib.seq2seq.GreedyEmbeddingHelper(dec_embeddings,\n",
    "                                                                start_tokens,\n",
    "                                                                target_vocab_to_int['<EOS>'])\n",
    "\n",
    "        # Basic decoder\n",
    "        inference_decoder = tf.contrib.seq2seq.BasicDecoder(dec_cell,\n",
    "                                                        inference_helper,\n",
    "                                                        encoder_state,\n",
    "                                                        output_layer)\n",
    "        \n",
    "        # Perform dynamic decoding using the decoder\n",
    "        inference_decoder_output, _ = tf.contrib.seq2seq.dynamic_decode(inference_decoder,\n",
    "                                                            impute_finished=True,\n",
    "                                                            maximum_iterations=max_target_sequence_length)\n",
    "         \n",
    "\n",
    "    \n",
    "    return training_decoder_output, inference_decoder_output\n",
    "\n",
    "\n",
    "\n",
    "\"\"\"\n",
    "DON'T MODIFY ANYTHING IN THIS CELL THAT IS BELOW THIS LINE\n",
    "\"\"\"\n",
    "tests.test_decoding_layer(decoding_layer)"
   ]
  },
  {
   "cell_type": "markdown",
   "metadata": {},
   "source": [
    "### Build the Neural Network\n",
    "Apply the functions you implemented above to:\n",
    "\n",
    "- Encode the input using your `encoding_layer(rnn_inputs, rnn_size, num_layers, keep_prob,  source_sequence_length, source_vocab_size, encoding_embedding_size)`.\n",
    "- Process target data using your `process_decoder_input(target_data, target_vocab_to_int, batch_size)` function.\n",
    "- Decode the encoded input using your `decoding_layer(dec_input, enc_state, target_sequence_length, max_target_sentence_length, rnn_size, num_layers, target_vocab_to_int, target_vocab_size, batch_size, keep_prob, dec_embedding_size)` function."
   ]
  },
  {
   "cell_type": "code",
   "execution_count": 100,
   "metadata": {},
   "outputs": [
    {
     "name": "stdout",
     "output_type": "stream",
     "text": [
      "rnn_inputs:  Tensor(\"Placeholder_6:0\", shape=(64, 22), dtype=int32)\n",
      "source_vocab_size:  300\n",
      "encoding_embedding_size:  100\n",
      "Tests Passed\n"
     ]
    }
   ],
   "source": [
    "def seq2seq_model(input_data, target_data, keep_prob, batch_size,\n",
    "                  source_sequence_length, target_sequence_length,\n",
    "                  max_target_sentence_length,\n",
    "                  source_vocab_size, target_vocab_size,\n",
    "                  enc_embedding_size, dec_embedding_size,\n",
    "                  rnn_size, num_layers, target_vocab_to_int):\n",
    "    \"\"\"\n",
    "    Build the Sequence-to-Sequence part of the neural network\n",
    "    :param input_data: Input placeholder\n",
    "    :param target_data: Target placeholder\n",
    "    :param keep_prob: Dropout keep probability placeholder\n",
    "    :param batch_size: Batch Size\n",
    "    :param source_sequence_length: Sequence Lengths of source sequences in the batch\n",
    "    :param target_sequence_length: Sequence Lengths of target sequences in the batch\n",
    "    :param source_vocab_size: Source vocabulary size\n",
    "    :param target_vocab_size: Target vocabulary size\n",
    "    :param enc_embedding_size: Decoder embedding size\n",
    "    :param dec_embedding_size: Encoder embedding size\n",
    "    :param rnn_size: RNN Size\n",
    "    :param num_layers: Number of layers\n",
    "    :param target_vocab_to_int: Dictionary to go from the target words to an id\n",
    "    :return: Tuple of (Training BasicDecoderOutput, Inference BasicDecoderOutput)\n",
    "    \"\"\"\n",
    "    # TODO: Implement Function\n",
    "    \n",
    "    #print('input_data', input_data)\n",
    "   \n",
    "        # Pass the input data through the encoder. We'll ignore the encoder output, but use the state\n",
    "    _, enc_state = encoding_layer(input_data, \n",
    "                                  rnn_size, \n",
    "                                  num_layers, keep_prob,\n",
    "                                  source_sequence_length,\n",
    "                                  source_vocab_size, \n",
    "                                  enc_embedding_size)\n",
    "     \n",
    "        \n",
    "\n",
    "        \n",
    "    # Prepare the target sequences we'll feed to the decoder in training mode\n",
    "    dec_input = process_decoder_input(target_data, target_vocab_to_int, batch_size)\n",
    "    \n",
    "    # Pass encoder state and decoder inputs to the decoders\n",
    "    training_decoder_output, inference_decoder_output = decoding_layer(dec_input, \n",
    "                                                                       enc_state,\n",
    "                                                                       target_sequence_length, \n",
    "                                                                       max_target_sentence_length,\n",
    "                                                                       rnn_size,\n",
    "                                                                       num_layers, \n",
    "                                                                       target_vocab_to_int, \n",
    "                                                                       target_vocab_size,\n",
    "                                                                       batch_size, \n",
    "                                                                       keep_prob, \n",
    "                                                                       dec_embedding_size) \n",
    "    \n",
    "    return training_decoder_output, inference_decoder_output\n",
    "\n",
    "\n",
    "\"\"\"\n",
    "DON'T MODIFY ANYTHING IN THIS CELL THAT IS BELOW THIS LINE\n",
    "\"\"\"\n",
    "tests.test_seq2seq_model(seq2seq_model)"
   ]
  },
  {
   "cell_type": "markdown",
   "metadata": {},
   "source": [
    "## Neural Network Training\n",
    "### Hyperparameters\n",
    "Tune the following parameters:\n",
    "\n",
    "- Set `epochs` to the number of epochs.\n",
    "- Set `batch_size` to the batch size.\n",
    "- Set `rnn_size` to the size of the RNNs.\n",
    "- Set `num_layers` to the number of layers.\n",
    "- Set `encoding_embedding_size` to the size of the embedding for the encoder.\n",
    "- Set `decoding_embedding_size` to the size of the embedding for the decoder.\n",
    "- Set `learning_rate` to the learning rate.\n",
    "- Set `keep_probability` to the Dropout keep probability\n",
    "- Set `display_step` to state how many steps between each debug output statement"
   ]
  },
  {
   "cell_type": "code",
   "execution_count": 101,
   "metadata": {
    "collapsed": true
   },
   "outputs": [],
   "source": [
    "# Number of Epochs\n",
    "epochs = 5\n",
    "# Batch Size\n",
    "batch_size = 300\n",
    "# RNN Size\n",
    "rnn_size = 75\n",
    "# Number of Layers\n",
    "num_layers = 4\n",
    "# Embedding Size\n",
    "encoding_embedding_size = 250\n",
    "decoding_embedding_size = 250\n",
    "# Learning Rate\n",
    "learning_rate = 0.001\n",
    "# Dropout Keep Probability\n",
    "keep_probability = 0.5\n",
    "display_step = 5"
   ]
  },
  {
   "cell_type": "markdown",
   "metadata": {},
   "source": [
    "### Build the Graph\n",
    "Build the graph using the neural network you implemented."
   ]
  },
  {
   "cell_type": "code",
   "execution_count": 102,
   "metadata": {},
   "outputs": [
    {
     "name": "stdout",
     "output_type": "stream",
     "text": [
      "rnn_inputs:  Tensor(\"ReverseV2:0\", shape=(?, ?), dtype=int32)\n",
      "source_vocab_size:  231\n",
      "encoding_embedding_size:  250\n"
     ]
    }
   ],
   "source": [
    "\"\"\"\n",
    "DON'T MODIFY ANYTHING IN THIS CELL\n",
    "\"\"\"\n",
    "save_path = 'checkpoints/dev'\n",
    "(source_int_text, target_int_text), (source_vocab_to_int, target_vocab_to_int), _ = helper.load_preprocess()\n",
    "max_target_sentence_length = max([len(sentence) for sentence in source_int_text])\n",
    "\n",
    "train_graph = tf.Graph()\n",
    "with train_graph.as_default():\n",
    "    input_data, targets, lr, keep_prob, target_sequence_length, max_target_sequence_length, source_sequence_length = model_inputs()\n",
    "\n",
    "    #sequence_length = tf.placeholder_with_default(max_target_sentence_length, None, name='sequence_length')\n",
    "    input_shape = tf.shape(input_data)\n",
    "\n",
    "    train_logits, inference_logits = seq2seq_model(tf.reverse(input_data, [-1]),\n",
    "                                                   targets,\n",
    "                                                   keep_prob,\n",
    "                                                   batch_size,\n",
    "                                                   source_sequence_length,\n",
    "                                                   target_sequence_length,\n",
    "                                                   max_target_sequence_length,\n",
    "                                                   len(source_vocab_to_int),\n",
    "                                                   len(target_vocab_to_int),\n",
    "                                                   encoding_embedding_size,\n",
    "                                                   decoding_embedding_size,\n",
    "                                                   rnn_size,\n",
    "                                                   num_layers,\n",
    "                                                   target_vocab_to_int)\n",
    "\n",
    "\n",
    "    training_logits = tf.identity(train_logits.rnn_output, name='logits')\n",
    "    inference_logits = tf.identity(inference_logits.sample_id, name='predictions')\n",
    "\n",
    "    masks = tf.sequence_mask(target_sequence_length, max_target_sequence_length, dtype=tf.float32, name='masks')\n",
    "\n",
    "    with tf.name_scope(\"optimization\"):\n",
    "        # Loss function\n",
    "        cost = tf.contrib.seq2seq.sequence_loss(\n",
    "            training_logits,\n",
    "            targets,\n",
    "            masks)\n",
    "\n",
    "        # Optimizer\n",
    "        optimizer = tf.train.AdamOptimizer(lr)\n",
    "\n",
    "        # Gradient Clipping\n",
    "        gradients = optimizer.compute_gradients(cost)\n",
    "        capped_gradients = [(tf.clip_by_value(grad, -1., 1.), var) for grad, var in gradients if grad is not None]\n",
    "        train_op = optimizer.apply_gradients(capped_gradients)\n"
   ]
  },
  {
   "cell_type": "markdown",
   "metadata": {},
   "source": [
    "Batch and pad the source and target sequences"
   ]
  },
  {
   "cell_type": "code",
   "execution_count": 103,
   "metadata": {
    "collapsed": true
   },
   "outputs": [],
   "source": [
    "\"\"\"\n",
    "DON'T MODIFY ANYTHING IN THIS CELL\n",
    "\"\"\"\n",
    "def pad_sentence_batch(sentence_batch, pad_int):\n",
    "    \"\"\"Pad sentences with <PAD> so that each sentence of a batch has the same length\"\"\"\n",
    "    max_sentence = max([len(sentence) for sentence in sentence_batch])\n",
    "    return [sentence + [pad_int] * (max_sentence - len(sentence)) for sentence in sentence_batch]\n",
    "\n",
    "\n",
    "def get_batches(sources, targets, batch_size, source_pad_int, target_pad_int):\n",
    "    \"\"\"Batch targets, sources, and the lengths of their sentences together\"\"\"\n",
    "    for batch_i in range(0, len(sources)//batch_size):\n",
    "        start_i = batch_i * batch_size\n",
    "\n",
    "        # Slice the right amount for the batch\n",
    "        sources_batch = sources[start_i:start_i + batch_size]\n",
    "        targets_batch = targets[start_i:start_i + batch_size]\n",
    "\n",
    "        # Pad\n",
    "        pad_sources_batch = np.array(pad_sentence_batch(sources_batch, source_pad_int))\n",
    "        pad_targets_batch = np.array(pad_sentence_batch(targets_batch, target_pad_int))\n",
    "\n",
    "        # Need the lengths for the _lengths parameters\n",
    "        pad_targets_lengths = []\n",
    "        for target in pad_targets_batch:\n",
    "            pad_targets_lengths.append(len(target))\n",
    "\n",
    "        pad_source_lengths = []\n",
    "        for source in pad_sources_batch:\n",
    "            pad_source_lengths.append(len(source))\n",
    "\n",
    "        yield pad_sources_batch, pad_targets_batch, pad_source_lengths, pad_targets_lengths\n"
   ]
  },
  {
   "cell_type": "markdown",
   "metadata": {},
   "source": [
    "### Train\n",
    "Train the neural network on the preprocessed data. If you have a hard time getting a good loss, check the forms to see if anyone is having the same problem."
   ]
  },
  {
   "cell_type": "code",
   "execution_count": null,
   "metadata": {
    "scrolled": true
   },
   "outputs": [
    {
     "name": "stdout",
     "output_type": "stream",
     "text": [
      "Epoch   0 Batch    5/459 - Train Accuracy: 0.2689, Validation Accuracy: 0.3167, Loss: 5.5480\n",
      "Epoch   0 Batch   10/459 - Train Accuracy: 0.2368, Validation Accuracy: 0.3167, Loss: 5.0181\n",
      "Epoch   0 Batch   15/459 - Train Accuracy: 0.2800, Validation Accuracy: 0.3445, Loss: 4.4977\n",
      "Epoch   0 Batch   20/459 - Train Accuracy: 0.2989, Validation Accuracy: 0.3438, Loss: 3.9784\n",
      "Epoch   0 Batch   25/459 - Train Accuracy: 0.3044, Validation Accuracy: 0.3444, Loss: 3.6579\n",
      "Epoch   0 Batch   30/459 - Train Accuracy: 0.2683, Validation Accuracy: 0.3452, Loss: 3.6253\n",
      "Epoch   0 Batch   35/459 - Train Accuracy: 0.2715, Validation Accuracy: 0.3452, Loss: 3.4901\n",
      "Epoch   0 Batch   40/459 - Train Accuracy: 0.3260, Validation Accuracy: 0.3458, Loss: 3.2834\n",
      "Epoch   0 Batch   45/459 - Train Accuracy: 0.3438, Validation Accuracy: 0.3458, Loss: 3.1343\n",
      "Epoch   0 Batch   50/459 - Train Accuracy: 0.2693, Validation Accuracy: 0.3458, Loss: 3.3346\n",
      "Epoch   0 Batch   55/459 - Train Accuracy: 0.3056, Validation Accuracy: 0.3536, Loss: 3.2060\n",
      "Epoch   0 Batch   60/459 - Train Accuracy: 0.3224, Validation Accuracy: 0.3561, Loss: 3.1328\n",
      "Epoch   0 Batch   65/459 - Train Accuracy: 0.3032, Validation Accuracy: 0.3676, Loss: 3.2348\n",
      "Epoch   0 Batch   70/459 - Train Accuracy: 0.3118, Validation Accuracy: 0.3768, Loss: 3.1793\n",
      "Epoch   0 Batch   75/459 - Train Accuracy: 0.3398, Validation Accuracy: 0.3862, Loss: 3.1322\n",
      "Epoch   0 Batch   80/459 - Train Accuracy: 0.3158, Validation Accuracy: 0.3888, Loss: 3.1619\n",
      "Epoch   0 Batch   85/459 - Train Accuracy: 0.3315, Validation Accuracy: 0.3909, Loss: 3.0667\n",
      "Epoch   0 Batch   90/459 - Train Accuracy: 0.3586, Validation Accuracy: 0.3903, Loss: 2.9247\n",
      "Epoch   0 Batch   95/459 - Train Accuracy: 0.3310, Validation Accuracy: 0.3942, Loss: 3.0325\n",
      "Epoch   0 Batch  100/459 - Train Accuracy: 0.3651, Validation Accuracy: 0.3953, Loss: 2.8753\n",
      "Epoch   0 Batch  105/459 - Train Accuracy: 0.3440, Validation Accuracy: 0.4000, Loss: 2.9530\n",
      "Epoch   0 Batch  110/459 - Train Accuracy: 0.3687, Validation Accuracy: 0.4027, Loss: 2.8275\n",
      "Epoch   0 Batch  115/459 - Train Accuracy: 0.3690, Validation Accuracy: 0.4053, Loss: 2.8295\n",
      "Epoch   0 Batch  120/459 - Train Accuracy: 0.3515, Validation Accuracy: 0.4080, Loss: 2.9177\n",
      "Epoch   0 Batch  125/459 - Train Accuracy: 0.4105, Validation Accuracy: 0.4080, Loss: 2.6524\n",
      "Epoch   0 Batch  130/459 - Train Accuracy: 0.3654, Validation Accuracy: 0.4129, Loss: 2.7788\n",
      "Epoch   0 Batch  135/459 - Train Accuracy: 0.3440, Validation Accuracy: 0.4144, Loss: 2.8830\n",
      "Epoch   0 Batch  140/459 - Train Accuracy: 0.3638, Validation Accuracy: 0.4185, Loss: 2.7953\n",
      "Epoch   0 Batch  145/459 - Train Accuracy: 0.3810, Validation Accuracy: 0.4200, Loss: 2.6787\n",
      "Epoch   0 Batch  150/459 - Train Accuracy: 0.3625, Validation Accuracy: 0.4247, Loss: 2.7792\n",
      "Epoch   0 Batch  155/459 - Train Accuracy: 0.3528, Validation Accuracy: 0.4247, Loss: 2.7676\n",
      "Epoch   0 Batch  160/459 - Train Accuracy: 0.3682, Validation Accuracy: 0.4335, Loss: 2.7311\n",
      "Epoch   0 Batch  165/459 - Train Accuracy: 0.3943, Validation Accuracy: 0.4385, Loss: 2.6013\n",
      "Epoch   0 Batch  170/459 - Train Accuracy: 0.3733, Validation Accuracy: 0.4380, Loss: 2.6890\n",
      "Epoch   0 Batch  175/459 - Train Accuracy: 0.3840, Validation Accuracy: 0.4476, Loss: 2.6495\n",
      "Epoch   0 Batch  180/459 - Train Accuracy: 0.4041, Validation Accuracy: 0.4420, Loss: 2.5452\n",
      "Epoch   0 Batch  185/459 - Train Accuracy: 0.4197, Validation Accuracy: 0.4535, Loss: 2.5041\n",
      "Epoch   0 Batch  190/459 - Train Accuracy: 0.3942, Validation Accuracy: 0.4494, Loss: 2.5976\n",
      "Epoch   0 Batch  195/459 - Train Accuracy: 0.4302, Validation Accuracy: 0.4689, Loss: 2.4883\n",
      "Epoch   0 Batch  200/459 - Train Accuracy: 0.4013, Validation Accuracy: 0.4565, Loss: 2.5329\n",
      "Epoch   0 Batch  205/459 - Train Accuracy: 0.4227, Validation Accuracy: 0.4759, Loss: 2.5329\n",
      "Epoch   0 Batch  210/459 - Train Accuracy: 0.4475, Validation Accuracy: 0.4783, Loss: 2.3851\n",
      "Epoch   0 Batch  215/459 - Train Accuracy: 0.4546, Validation Accuracy: 0.4780, Loss: 2.3380\n",
      "Epoch   0 Batch  220/459 - Train Accuracy: 0.4487, Validation Accuracy: 0.4708, Loss: 2.3568\n",
      "Epoch   0 Batch  225/459 - Train Accuracy: 0.4222, Validation Accuracy: 0.4835, Loss: 2.4899\n",
      "Epoch   0 Batch  230/459 - Train Accuracy: 0.4220, Validation Accuracy: 0.4823, Loss: 2.4636\n",
      "Epoch   0 Batch  235/459 - Train Accuracy: 0.4350, Validation Accuracy: 0.4792, Loss: 2.4282\n",
      "Epoch   0 Batch  240/459 - Train Accuracy: 0.4743, Validation Accuracy: 0.4914, Loss: 2.3035\n",
      "Epoch   0 Batch  245/459 - Train Accuracy: 0.4380, Validation Accuracy: 0.4880, Loss: 2.4104\n",
      "Epoch   0 Batch  250/459 - Train Accuracy: 0.4698, Validation Accuracy: 0.4915, Loss: 2.2709\n",
      "Epoch   0 Batch  255/459 - Train Accuracy: 0.4741, Validation Accuracy: 0.5030, Loss: 2.3403\n",
      "Epoch   0 Batch  260/459 - Train Accuracy: 0.4625, Validation Accuracy: 0.4979, Loss: 2.3139\n",
      "Epoch   0 Batch  265/459 - Train Accuracy: 0.4656, Validation Accuracy: 0.4929, Loss: 2.2322\n",
      "Epoch   0 Batch  270/459 - Train Accuracy: 0.4732, Validation Accuracy: 0.5058, Loss: 2.2333\n",
      "Epoch   0 Batch  275/459 - Train Accuracy: 0.4554, Validation Accuracy: 0.4929, Loss: 2.2280\n",
      "Epoch   0 Batch  280/459 - Train Accuracy: 0.4789, Validation Accuracy: 0.4956, Loss: 2.2294\n",
      "Epoch   0 Batch  285/459 - Train Accuracy: 0.5162, Validation Accuracy: 0.5067, Loss: 2.0320\n",
      "Epoch   0 Batch  290/459 - Train Accuracy: 0.4448, Validation Accuracy: 0.5065, Loss: 2.2911\n",
      "Epoch   0 Batch  295/459 - Train Accuracy: 0.4929, Validation Accuracy: 0.5129, Loss: 2.1615\n",
      "Epoch   0 Batch  300/459 - Train Accuracy: 0.4825, Validation Accuracy: 0.5111, Loss: 2.1498\n",
      "Epoch   0 Batch  305/459 - Train Accuracy: 0.4603, Validation Accuracy: 0.5021, Loss: 2.1859\n",
      "Epoch   0 Batch  310/459 - Train Accuracy: 0.4789, Validation Accuracy: 0.5097, Loss: 2.1284\n",
      "Epoch   0 Batch  315/459 - Train Accuracy: 0.4787, Validation Accuracy: 0.5120, Loss: 2.1679\n",
      "Epoch   0 Batch  320/459 - Train Accuracy: 0.4776, Validation Accuracy: 0.5048, Loss: 2.0175\n",
      "Epoch   0 Batch  325/459 - Train Accuracy: 0.4900, Validation Accuracy: 0.5102, Loss: 2.0294\n",
      "Epoch   0 Batch  330/459 - Train Accuracy: 0.4615, Validation Accuracy: 0.5082, Loss: 2.1808\n",
      "Epoch   0 Batch  335/459 - Train Accuracy: 0.4797, Validation Accuracy: 0.5130, Loss: 2.0325\n",
      "Epoch   0 Batch  340/459 - Train Accuracy: 0.4525, Validation Accuracy: 0.5145, Loss: 2.1892\n",
      "Epoch   0 Batch  345/459 - Train Accuracy: 0.4960, Validation Accuracy: 0.5189, Loss: 2.0179\n",
      "Epoch   0 Batch  350/459 - Train Accuracy: 0.4657, Validation Accuracy: 0.5133, Loss: 2.0972\n",
      "Epoch   0 Batch  355/459 - Train Accuracy: 0.5111, Validation Accuracy: 0.5221, Loss: 1.9432\n",
      "Epoch   0 Batch  360/459 - Train Accuracy: 0.4872, Validation Accuracy: 0.5188, Loss: 2.0083\n",
      "Epoch   0 Batch  365/459 - Train Accuracy: 0.5027, Validation Accuracy: 0.5205, Loss: 1.9474\n",
      "Epoch   0 Batch  370/459 - Train Accuracy: 0.4603, Validation Accuracy: 0.5211, Loss: 2.0947\n",
      "Epoch   0 Batch  375/459 - Train Accuracy: 0.4760, Validation Accuracy: 0.5271, Loss: 2.0212\n",
      "Epoch   0 Batch  380/459 - Train Accuracy: 0.4843, Validation Accuracy: 0.5274, Loss: 1.9909\n",
      "Epoch   0 Batch  385/459 - Train Accuracy: 0.4745, Validation Accuracy: 0.5235, Loss: 2.0344\n",
      "Epoch   0 Batch  390/459 - Train Accuracy: 0.4628, Validation Accuracy: 0.5312, Loss: 2.0520\n",
      "Epoch   0 Batch  395/459 - Train Accuracy: 0.4743, Validation Accuracy: 0.5297, Loss: 1.9895\n",
      "Epoch   0 Batch  400/459 - Train Accuracy: 0.4763, Validation Accuracy: 0.5320, Loss: 1.9844\n",
      "Epoch   0 Batch  405/459 - Train Accuracy: 0.5065, Validation Accuracy: 0.5264, Loss: 1.8413\n",
      "Epoch   0 Batch  410/459 - Train Accuracy: 0.5040, Validation Accuracy: 0.5274, Loss: 1.8723\n",
      "Epoch   0 Batch  415/459 - Train Accuracy: 0.5071, Validation Accuracy: 0.5270, Loss: 1.7975\n",
      "Epoch   0 Batch  420/459 - Train Accuracy: 0.4938, Validation Accuracy: 0.5245, Loss: 1.8220\n",
      "Epoch   0 Batch  425/459 - Train Accuracy: 0.4827, Validation Accuracy: 0.5373, Loss: 1.8717\n",
      "Epoch   0 Batch  430/459 - Train Accuracy: 0.4577, Validation Accuracy: 0.5136, Loss: 1.8805\n",
      "Epoch   0 Batch  435/459 - Train Accuracy: 0.5005, Validation Accuracy: 0.5300, Loss: 1.7576\n",
      "Epoch   0 Batch  440/459 - Train Accuracy: 0.4756, Validation Accuracy: 0.5241, Loss: 1.7734\n",
      "Epoch   0 Batch  445/459 - Train Accuracy: 0.4620, Validation Accuracy: 0.5208, Loss: 1.8182\n"
     ]
    },
    {
     "name": "stdout",
     "output_type": "stream",
     "text": [
      "Epoch   0 Batch  450/459 - Train Accuracy: 0.4888, Validation Accuracy: 0.5229, Loss: 1.7930\n",
      "Epoch   0 Batch  455/459 - Train Accuracy: 0.4959, Validation Accuracy: 0.5167, Loss: 1.6793\n",
      "Epoch   1 Batch    5/459 - Train Accuracy: 0.4690, Validation Accuracy: 0.5118, Loss: 1.7272\n",
      "Epoch   1 Batch   10/459 - Train Accuracy: 0.4595, Validation Accuracy: 0.5239, Loss: 1.7682\n",
      "Epoch   1 Batch   15/459 - Train Accuracy: 0.4652, Validation Accuracy: 0.5198, Loss: 1.7468\n",
      "Epoch   1 Batch   20/459 - Train Accuracy: 0.4835, Validation Accuracy: 0.5198, Loss: 1.6882\n",
      "Epoch   1 Batch   25/459 - Train Accuracy: 0.4832, Validation Accuracy: 0.5165, Loss: 1.6462\n",
      "Epoch   1 Batch   30/459 - Train Accuracy: 0.4688, Validation Accuracy: 0.5159, Loss: 1.6831\n",
      "Epoch   1 Batch   35/459 - Train Accuracy: 0.4730, Validation Accuracy: 0.5221, Loss: 1.6810\n",
      "Epoch   1 Batch   40/459 - Train Accuracy: 0.5079, Validation Accuracy: 0.5326, Loss: 1.6062\n",
      "Epoch   1 Batch   45/459 - Train Accuracy: 0.5361, Validation Accuracy: 0.5359, Loss: 1.5854\n",
      "Epoch   1 Batch   50/459 - Train Accuracy: 0.4928, Validation Accuracy: 0.5388, Loss: 1.6275\n",
      "Epoch   1 Batch   55/459 - Train Accuracy: 0.5078, Validation Accuracy: 0.5359, Loss: 1.5810\n",
      "Epoch   1 Batch   60/459 - Train Accuracy: 0.5168, Validation Accuracy: 0.5345, Loss: 1.5675\n",
      "Epoch   1 Batch   65/459 - Train Accuracy: 0.4825, Validation Accuracy: 0.5235, Loss: 1.6420\n",
      "Epoch   1 Batch   70/459 - Train Accuracy: 0.4940, Validation Accuracy: 0.5317, Loss: 1.5880\n",
      "Epoch   1 Batch   75/459 - Train Accuracy: 0.5020, Validation Accuracy: 0.5206, Loss: 1.5667\n",
      "Epoch   1 Batch   80/459 - Train Accuracy: 0.4858, Validation Accuracy: 0.5358, Loss: 1.5959\n",
      "Epoch   1 Batch   85/459 - Train Accuracy: 0.4952, Validation Accuracy: 0.5350, Loss: 1.5317\n",
      "Epoch   1 Batch   90/459 - Train Accuracy: 0.5229, Validation Accuracy: 0.5424, Loss: 1.4632\n",
      "Epoch   1 Batch   95/459 - Train Accuracy: 0.4947, Validation Accuracy: 0.5324, Loss: 1.5495\n",
      "Epoch   1 Batch  100/459 - Train Accuracy: 0.4994, Validation Accuracy: 0.5324, Loss: 1.4638\n",
      "Epoch   1 Batch  105/459 - Train Accuracy: 0.5013, Validation Accuracy: 0.5306, Loss: 1.5059\n",
      "Epoch   1 Batch  110/459 - Train Accuracy: 0.5260, Validation Accuracy: 0.5417, Loss: 1.4512\n",
      "Epoch   1 Batch  115/459 - Train Accuracy: 0.5160, Validation Accuracy: 0.5438, Loss: 1.4714\n",
      "Epoch   1 Batch  120/459 - Train Accuracy: 0.4993, Validation Accuracy: 0.5377, Loss: 1.5379\n",
      "Epoch   1 Batch  125/459 - Train Accuracy: 0.5474, Validation Accuracy: 0.5402, Loss: 1.3715\n",
      "Epoch   1 Batch  130/459 - Train Accuracy: 0.5040, Validation Accuracy: 0.5382, Loss: 1.4453\n",
      "Epoch   1 Batch  135/459 - Train Accuracy: 0.4838, Validation Accuracy: 0.5359, Loss: 1.5007\n",
      "Epoch   1 Batch  140/459 - Train Accuracy: 0.5095, Validation Accuracy: 0.5453, Loss: 1.4683\n",
      "Epoch   1 Batch  145/459 - Train Accuracy: 0.5254, Validation Accuracy: 0.5406, Loss: 1.3971\n",
      "Epoch   1 Batch  150/459 - Train Accuracy: 0.4970, Validation Accuracy: 0.5471, Loss: 1.4745\n",
      "Epoch   1 Batch  155/459 - Train Accuracy: 0.4882, Validation Accuracy: 0.5458, Loss: 1.4627\n",
      "Epoch   1 Batch  160/459 - Train Accuracy: 0.5040, Validation Accuracy: 0.5430, Loss: 1.4364\n",
      "Epoch   1 Batch  165/459 - Train Accuracy: 0.5259, Validation Accuracy: 0.5508, Loss: 1.3540\n",
      "Epoch   1 Batch  170/459 - Train Accuracy: 0.5005, Validation Accuracy: 0.5433, Loss: 1.4333\n",
      "Epoch   1 Batch  175/459 - Train Accuracy: 0.5072, Validation Accuracy: 0.5403, Loss: 1.3881\n",
      "Epoch   1 Batch  180/459 - Train Accuracy: 0.5125, Validation Accuracy: 0.5308, Loss: 1.3294\n",
      "Epoch   1 Batch  185/459 - Train Accuracy: 0.5362, Validation Accuracy: 0.5395, Loss: 1.3108\n",
      "Epoch   1 Batch  190/459 - Train Accuracy: 0.5030, Validation Accuracy: 0.5395, Loss: 1.3906\n",
      "Epoch   1 Batch  195/459 - Train Accuracy: 0.5075, Validation Accuracy: 0.5417, Loss: 1.3193\n",
      "Epoch   1 Batch  200/459 - Train Accuracy: 0.5013, Validation Accuracy: 0.5426, Loss: 1.3223\n",
      "Epoch   1 Batch  205/459 - Train Accuracy: 0.5002, Validation Accuracy: 0.5342, Loss: 1.3306\n",
      "Epoch   1 Batch  210/459 - Train Accuracy: 0.5214, Validation Accuracy: 0.5406, Loss: 1.2422\n",
      "Epoch   1 Batch  215/459 - Train Accuracy: 0.5151, Validation Accuracy: 0.5352, Loss: 1.2138\n",
      "Epoch   1 Batch  220/459 - Train Accuracy: 0.5338, Validation Accuracy: 0.5515, Loss: 1.2303\n",
      "Epoch   1 Batch  225/459 - Train Accuracy: 0.5007, Validation Accuracy: 0.5342, Loss: 1.2970\n",
      "Epoch   1 Batch  230/459 - Train Accuracy: 0.4950, Validation Accuracy: 0.5338, Loss: 1.2693\n",
      "Epoch   1 Batch  235/459 - Train Accuracy: 0.5108, Validation Accuracy: 0.5305, Loss: 1.2665\n",
      "Epoch   1 Batch  240/459 - Train Accuracy: 0.5175, Validation Accuracy: 0.5350, Loss: 1.2166\n",
      "Epoch   1 Batch  245/459 - Train Accuracy: 0.5140, Validation Accuracy: 0.5456, Loss: 1.2566\n",
      "Epoch   1 Batch  250/459 - Train Accuracy: 0.5344, Validation Accuracy: 0.5382, Loss: 1.1824\n",
      "Epoch   1 Batch  255/459 - Train Accuracy: 0.5132, Validation Accuracy: 0.5370, Loss: 1.2093\n",
      "Epoch   1 Batch  260/459 - Train Accuracy: 0.5098, Validation Accuracy: 0.5403, Loss: 1.1851\n",
      "Epoch   1 Batch  265/459 - Train Accuracy: 0.5311, Validation Accuracy: 0.5388, Loss: 1.1565\n",
      "Epoch   1 Batch  270/459 - Train Accuracy: 0.4997, Validation Accuracy: 0.5395, Loss: 1.1708\n",
      "Epoch   1 Batch  275/459 - Train Accuracy: 0.5054, Validation Accuracy: 0.5291, Loss: 1.1765\n",
      "Epoch   1 Batch  280/459 - Train Accuracy: 0.5154, Validation Accuracy: 0.5389, Loss: 1.1576\n",
      "Epoch   1 Batch  285/459 - Train Accuracy: 0.5414, Validation Accuracy: 0.5364, Loss: 1.0712\n",
      "Epoch   1 Batch  290/459 - Train Accuracy: 0.4878, Validation Accuracy: 0.5339, Loss: 1.1912\n",
      "Epoch   1 Batch  295/459 - Train Accuracy: 0.5003, Validation Accuracy: 0.5158, Loss: 1.1482\n",
      "Epoch   1 Batch  300/459 - Train Accuracy: 0.4710, Validation Accuracy: 0.5036, Loss: 1.1379\n",
      "Epoch   1 Batch  305/459 - Train Accuracy: 0.4752, Validation Accuracy: 0.5176, Loss: 1.1298\n",
      "Epoch   1 Batch  310/459 - Train Accuracy: 0.4827, Validation Accuracy: 0.5198, Loss: 1.1177\n",
      "Epoch   1 Batch  315/459 - Train Accuracy: 0.4970, Validation Accuracy: 0.5245, Loss: 1.1306\n",
      "Epoch   1 Batch  320/459 - Train Accuracy: 0.4944, Validation Accuracy: 0.5179, Loss: 1.0653\n",
      "Epoch   1 Batch  325/459 - Train Accuracy: 0.4919, Validation Accuracy: 0.5129, Loss: 1.0572\n",
      "Epoch   1 Batch  330/459 - Train Accuracy: 0.4817, Validation Accuracy: 0.5232, Loss: 1.1298\n",
      "Epoch   1 Batch  335/459 - Train Accuracy: 0.4903, Validation Accuracy: 0.5182, Loss: 1.0742\n",
      "Epoch   1 Batch  340/459 - Train Accuracy: 0.4560, Validation Accuracy: 0.5067, Loss: 1.1558\n",
      "Epoch   1 Batch  345/459 - Train Accuracy: 0.4897, Validation Accuracy: 0.5148, Loss: 1.0452\n",
      "Epoch   1 Batch  350/459 - Train Accuracy: 0.4603, Validation Accuracy: 0.4915, Loss: 1.1062\n",
      "Epoch   1 Batch  355/459 - Train Accuracy: 0.4997, Validation Accuracy: 0.5038, Loss: 1.0207\n",
      "Epoch   1 Batch  360/459 - Train Accuracy: 0.4787, Validation Accuracy: 0.5077, Loss: 1.0641\n"
     ]
    }
   ],
   "source": [
    "\"\"\"\n",
    "DON'T MODIFY ANYTHING IN THIS CELL\n",
    "\"\"\"\n",
    "def get_accuracy(target, logits):\n",
    "    \"\"\"\n",
    "    Calculate accuracy\n",
    "    \"\"\"\n",
    "    max_seq = max(target.shape[1], logits.shape[1])\n",
    "    if max_seq - target.shape[1]:\n",
    "        target = np.pad(\n",
    "            target,\n",
    "            [(0,0),(0,max_seq - target.shape[1])],\n",
    "            'constant')\n",
    "    if max_seq - logits.shape[1]:\n",
    "        logits = np.pad(\n",
    "            logits,\n",
    "            [(0,0),(0,max_seq - logits.shape[1])],\n",
    "            'constant')\n",
    "\n",
    "    return np.mean(np.equal(target, logits))\n",
    "\n",
    "# Split data to training and validation sets\n",
    "train_source = source_int_text[batch_size:]\n",
    "train_target = target_int_text[batch_size:]\n",
    "valid_source = source_int_text[:batch_size]\n",
    "valid_target = target_int_text[:batch_size]\n",
    "(valid_sources_batch, valid_targets_batch, valid_sources_lengths, valid_targets_lengths ) = next(get_batches(valid_source,\n",
    "                                                                                                             valid_target,\n",
    "                                                                                                             batch_size,\n",
    "                                                                                                             source_vocab_to_int['<PAD>'],\n",
    "                                                                                                             target_vocab_to_int['<PAD>']))                                                                                                  \n",
    "with tf.Session(graph=train_graph) as sess:\n",
    "    sess.run(tf.global_variables_initializer())\n",
    "\n",
    "    for epoch_i in range(epochs):\n",
    "        for batch_i, (source_batch, target_batch, sources_lengths, targets_lengths) in enumerate(\n",
    "                get_batches(train_source, train_target, batch_size,\n",
    "                            source_vocab_to_int['<PAD>'],\n",
    "                            target_vocab_to_int['<PAD>'])):\n",
    "\n",
    "            _, loss = sess.run(\n",
    "                [train_op, cost],\n",
    "                {input_data: source_batch,\n",
    "                 targets: target_batch,\n",
    "                 lr: learning_rate,\n",
    "                 target_sequence_length: targets_lengths,\n",
    "                 source_sequence_length: sources_lengths,\n",
    "                 keep_prob: keep_probability})\n",
    "\n",
    "\n",
    "            if batch_i % display_step == 0 and batch_i > 0:\n",
    "\n",
    "\n",
    "                batch_train_logits = sess.run(\n",
    "                    inference_logits,\n",
    "                    {input_data: source_batch,\n",
    "                     source_sequence_length: sources_lengths,\n",
    "                     target_sequence_length: targets_lengths,\n",
    "                     keep_prob: 1.0})\n",
    "\n",
    "\n",
    "                batch_valid_logits = sess.run(\n",
    "                    inference_logits,\n",
    "                    {input_data: valid_sources_batch,\n",
    "                     source_sequence_length: valid_sources_lengths,\n",
    "                     target_sequence_length: valid_targets_lengths,\n",
    "                     keep_prob: 1.0})\n",
    "\n",
    "                train_acc = get_accuracy(target_batch, batch_train_logits)\n",
    "\n",
    "                valid_acc = get_accuracy(valid_targets_batch, batch_valid_logits)\n",
    "\n",
    "                print('Epoch {:>3} Batch {:>4}/{} - Train Accuracy: {:>6.4f}, Validation Accuracy: {:>6.4f}, Loss: {:>6.4f}'\n",
    "                      .format(epoch_i, batch_i, len(source_int_text) // batch_size, train_acc, valid_acc, loss))\n",
    "\n",
    "    # Save Model\n",
    "    saver = tf.train.Saver()\n",
    "    saver.save(sess, save_path)\n",
    "    print('Model Trained and Saved')"
   ]
  },
  {
   "cell_type": "markdown",
   "metadata": {},
   "source": [
    "### Save Parameters\n",
    "Save the `batch_size` and `save_path` parameters for inference."
   ]
  },
  {
   "cell_type": "code",
   "execution_count": null,
   "metadata": {
    "collapsed": true
   },
   "outputs": [],
   "source": [
    "\"\"\"\n",
    "DON'T MODIFY ANYTHING IN THIS CELL\n",
    "\"\"\"\n",
    "# Save parameters for checkpoint\n",
    "helper.save_params(save_path)"
   ]
  },
  {
   "cell_type": "markdown",
   "metadata": {},
   "source": [
    "# Checkpoint"
   ]
  },
  {
   "cell_type": "code",
   "execution_count": null,
   "metadata": {
    "collapsed": true
   },
   "outputs": [],
   "source": [
    "\"\"\"\n",
    "DON'T MODIFY ANYTHING IN THIS CELL\n",
    "\"\"\"\n",
    "import tensorflow as tf\n",
    "import numpy as np\n",
    "import helper\n",
    "import problem_unittests as tests\n",
    "\n",
    "_, (source_vocab_to_int, target_vocab_to_int), (source_int_to_vocab, target_int_to_vocab) = helper.load_preprocess()\n",
    "load_path = helper.load_params()"
   ]
  },
  {
   "cell_type": "markdown",
   "metadata": {},
   "source": [
    "## Sentence to Sequence\n",
    "To feed a sentence into the model for translation, you first need to preprocess it.  Implement the function `sentence_to_seq()` to preprocess new sentences.\n",
    "\n",
    "- Convert the sentence to lowercase\n",
    "- Convert words into ids using `vocab_to_int`\n",
    " - Convert words not in the vocabulary, to the `<UNK>` word id."
   ]
  },
  {
   "cell_type": "code",
   "execution_count": null,
   "metadata": {
    "collapsed": true
   },
   "outputs": [],
   "source": [
    "def sentence_to_seq(sentence, vocab_to_int):\n",
    "    \"\"\"\n",
    "    Convert a sentence to a sequence of ids\n",
    "    :param sentence: String\n",
    "    :param vocab_to_int: Dictionary to go from the words to an id\n",
    "    :return: List of word ids\n",
    "    \"\"\"\n",
    "    # TODO: Implement Function\n",
    "    sequence_length = 5\n",
    "    words = sentence.split(' ')\n",
    "    return [vocab_to_int.get(word, vocab_to_int['<UNK>']) for word in words]+ [vocab_to_int['<PAD>']]*(sequence_length-len(words))\n",
    "\n",
    "\n",
    "\n",
    "\"\"\"\n",
    "DON'T MODIFY ANYTHING IN THIS CELL THAT IS BELOW THIS LINE\n",
    "\"\"\"\n",
    "tests.test_sentence_to_seq(sentence_to_seq)"
   ]
  },
  {
   "cell_type": "markdown",
   "metadata": {},
   "source": [
    "## Translate\n",
    "This will translate `translate_sentence` from English to French."
   ]
  },
  {
   "cell_type": "code",
   "execution_count": null,
   "metadata": {
    "collapsed": true
   },
   "outputs": [],
   "source": [
    "translate_sentence = 'he saw a old yellow truck .'\n",
    "\n",
    "\n",
    "\"\"\"\n",
    "DON'T MODIFY ANYTHING IN THIS CELL\n",
    "\"\"\"\n",
    "translate_sentence = sentence_to_seq(translate_sentence, source_vocab_to_int)\n",
    "\n",
    "loaded_graph = tf.Graph()\n",
    "with tf.Session(graph=loaded_graph) as sess:\n",
    "    # Load saved model\n",
    "    loader = tf.train.import_meta_graph(load_path + '.meta')\n",
    "    loader.restore(sess, load_path)\n",
    "\n",
    "    input_data = loaded_graph.get_tensor_by_name('input:0')\n",
    "    logits = loaded_graph.get_tensor_by_name('predictions:0')\n",
    "    target_sequence_length = loaded_graph.get_tensor_by_name('target_sequence_length:0')\n",
    "    source_sequence_length = loaded_graph.get_tensor_by_name('source_sequence_length:0')\n",
    "    keep_prob = loaded_graph.get_tensor_by_name('keep_prob:0')\n",
    "\n",
    "    translate_logits = sess.run(logits, {input_data: [translate_sentence]*batch_size,\n",
    "                                         target_sequence_length: [len(translate_sentence)*2]*batch_size,\n",
    "                                         source_sequence_length: [len(translate_sentence)]*batch_size,\n",
    "                                         keep_prob: 1.0})[0]\n",
    "\n",
    "print('Input')\n",
    "print('  Word Ids:      {}'.format([i for i in translate_sentence]))\n",
    "print('  English Words: {}'.format([source_int_to_vocab[i] for i in translate_sentence]))\n",
    "\n",
    "print('\\nPrediction')\n",
    "print('  Word Ids:      {}'.format([i for i in translate_logits]))\n",
    "print('  French Words: {}'.format(\" \".join([target_int_to_vocab[i] for i in translate_logits])))\n"
   ]
  },
  {
   "cell_type": "markdown",
   "metadata": {},
   "source": [
    "## Imperfect Translation\n",
    "You might notice that some sentences translate better than others.  Since the dataset you're using only has a vocabulary of 227 English words of the thousands that you use, you're only going to see good results using these words.  For this project, you don't need a perfect translation. However, if you want to create a better translation model, you'll need better data.\n",
    "\n",
    "You can train on the [WMT10 French-English corpus](http://www.statmt.org/wmt10/training-giga-fren.tar).  This dataset has more vocabulary and richer in topics discussed.  However, this will take you days to train, so make sure you've a GPU and the neural network is performing well on dataset we provided.  Just make sure you play with the WMT10 corpus after you've submitted this project.\n",
    "## Submitting This Project\n",
    "When submitting this project, make sure to run all the cells before saving the notebook. Save the notebook file as \"dlnd_language_translation.ipynb\" and save it as a HTML file under \"File\" -> \"Download as\". Include the \"helper.py\" and \"problem_unittests.py\" files in your submission."
   ]
  }
 ],
 "metadata": {
  "anaconda-cloud": {},
  "kernelspec": {
   "display_name": "Python 3",
   "language": "python",
   "name": "python3"
  },
  "language_info": {
   "codemirror_mode": {
    "name": "ipython",
    "version": 3
   },
   "file_extension": ".py",
   "mimetype": "text/x-python",
   "name": "python",
   "nbconvert_exporter": "python",
   "pygments_lexer": "ipython3",
   "version": "3.4.3"
  }
 },
 "nbformat": 4,
 "nbformat_minor": 1
}
